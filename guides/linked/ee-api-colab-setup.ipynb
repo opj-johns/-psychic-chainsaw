{
  "nbformat": 4,
  "nbformat_minor": 0,
  "metadata": {
    "colab": {
      "name": "ee-api-colab-setup.ipynb",
      "provenance": []
    },
    "kernelspec": {
      "name": "python3",
      "display_name": "Python 3"
    }
  },
  "cells": [
    {
      "cell_type": "code",
      "metadata": {
        "id": "krsLgVBYZw_A"
      },
      "source": [
        "#@title Copyright 2019 Google LLC. { display-mode: \"form\" }\n",
        "# Licensed under the Apache License, Version 2.0 (the \"License\");\n",
        "# you may not use this file except in compliance with the License.\n",
        "# You may obtain a copy of the License at\n",
        "#\n",
        "# https://www.apache.org/licenses/LICENSE-2.0\n",
        "#\n",
        "# Unless required by applicable law or agreed to in writing, software\n",
        "# distributed under the License is distributed on an \"AS IS\" BASIS,\n",
        "# WITHOUT WARRANTIES OR CONDITIONS OF ANY KIND, either express or implied.\n",
        "# See the License for the specific language governing permissions and\n",
        "# limitations under the License."
      ],
      "execution_count": null,
      "outputs": []
    },
    {
      "cell_type": "markdown",
      "metadata": {
        "id": "aV1xZ1CPi3Nw"
      },
      "source": [
        "<table class=\"ee-notebook-buttons\" align=\"left\"><td>\n",
        "<a target=\"_blank\"  href=\"http://colab.research.google.com/github/google/earthengine-community/blob/master/guides/linked/ee-api-colab-setup.ipynb\">\n",
        "    <img src=\"https://www.tensorflow.org/images/colab_logo_32px.png\" /> Run in Google Colab</a>\n",
        "</td><td>\n",
        "<a target=\"_blank\"  href=\"https://github.com/google/earthengine-community/blob/master/guides/linked/ee-api-colab-setup.ipynb\"><img width=32px src=\"https://www.tensorflow.org/images/GitHub-Mark-32px.png\" /> View source on GitHub</a></td></table>"
      ]
    },
    {
      "cell_type": "markdown",
      "metadata": {
        "id": "LAZiVi13zTE7"
      },
      "source": [
        "# Earth Engine Python API Colab Setup\n",
        "\n",
        "This notebook demonstrates how to setup the Earth Engine Python API in Colab and provides several examples of how to print and visualize Earth Engine processed data."
      ]
    },
    {
      "cell_type": "markdown",
      "metadata": {
        "id": "a69CuP5Q6OI7"
      },
      "source": [
        "## Import API and get credentials\n",
        "\n",
        "The Earth Engine API is installed by default in Google Colaboratory so requires only importing and authenticating. These steps must be completed for each new Colab session, if you restart your Colab kernel, or if your Colab virtual machine is recycled due to inactivity."
      ]
    },
    {
      "cell_type": "markdown",
      "metadata": {
        "id": "SNh-QBc36Mvk"
      },
      "source": [
        "### Import the API\n",
        "\n",
        "Run the following cell to import the API into your session."
      ]
    },
    {
      "cell_type": "code",
      "metadata": {
        "id": "65RChERMzQHZ"
      },
      "source": [
        "import ee"
      ],
      "execution_count": null,
      "outputs": []
    },
    {
      "cell_type": "markdown",
      "metadata": {
        "id": "s-dN42MTzg-w"
      },
      "source": [
        "### Authenticate and initialize\n",
        "\n",
        "Run the `ee.Authenticate` function to authenticate your access to Earth Engine servers and `ee.Initialize` to initialize it. Upon running the following cell you'll be asked to grant Earth Engine access to your Google account. Follow the instructions printed to the cell."
      ]
    },
    {
      "cell_type": "code",
      "metadata": {
        "id": "NMp9Ei9b0XXL"
      },
      "source": [
        "# Trigger the authentication flow.\n",
        "ee.Authenticate()\n",
        "\n",
        "# Initialize the library.\n",
        "ee.Initialize(project='my-project')"
      ],
      "execution_count": null,
      "outputs": []
    },
    {
      "cell_type": "markdown",
      "metadata": {
        "id": "8I_Fr0L5AFmu"
      },
      "source": [
        "## Test the API\n",
        "\n",
        "Test the API by printing the elevation of Mount Everest."
      ]
    },
    {
      "cell_type": "code",
      "metadata": {
        "id": "v7pD6pDOAhOW"
      },
      "source": [
        "# Print the elevation of Mount Everest.\n",
        "dem = ee.Image('USGS/SRTMGL1_003')\n",
        "xy = ee.Geometry.Point([86.9250, 27.9881])\n",
        "elev = dem.sample(xy, 30).first().get('elevation').getInfo()\n",
        "print('Mount Everest elevation (m):', elev)"
      ],
      "execution_count": null,
      "outputs": []
    },
    {
      "cell_type": "markdown",
      "metadata": {
        "id": "fDLAqiNWeD6t"
      },
      "source": [
        "## Map visualization\n",
        "\n",
        "`ee.Image` objects can be displayed to notebook output cells. The following two\n",
        "examples demonstrate displaying a static image and an interactive map.\n"
      ]
    },
    {
      "cell_type": "markdown",
      "metadata": {
        "id": "45BfeVygwmKm"
      },
      "source": [
        "### Static image\n",
        "\n",
        "The `IPython.display` module contains the `Image` function, which can display\n",
        "the results of a URL representing an image generated from a call to the Earth\n",
        "Engine `getThumbUrl` function. The following cell will display a thumbnail\n",
        "of the global elevation model."
      ]
    },
    {
      "cell_type": "code",
      "metadata": {
        "id": "Fp4rdpy0eGjx"
      },
      "source": [
        "# Import the Image function from the IPython.display module.\n",
        "from IPython.display import Image\n",
        "\n",
        "# Display a thumbnail of global elevation.\n",
        "Image(url = dem.updateMask(dem.gt(0))\n",
        "  .getThumbURL({'min': 0, 'max': 4000, 'dimensions': 512,\n",
        "                'palette': ['006633', 'E5FFCC', '662A00', 'D8D8D8', 'F5F5F5']}))"
      ],
      "execution_count": null,
      "outputs": []
    },
    {
      "cell_type": "markdown",
      "metadata": {
        "id": "Ljo5dbLkfmVm"
      },
      "source": [
        "### Interactive map\n",
        "\n",
        "The [geemap](https://github.com/gee-community/geemap)\n",
        "library can be used to display `ee.Image` objects on an interactive\n",
        "[ipyleaflet](https://github.com/jupyter-widgets/ipyleaflet) map.\n",
        "\n",
        "The following cell provides an example of using the `geemap.Map` object to\n",
        "display an elevation model."
      ]
    },
    {
      "cell_type": "code",
      "metadata": {
        "id": "VIiyf6azf4mU"
      },
      "source": [
        "# Import the geemap library.\n",
        "import geemap\n",
        "\n",
        "# Set visualization parameters.\n",
        "vis_params = {\n",
        "  'min': 0,\n",
        "  'max': 4000,\n",
        "  'palette': ['006633', 'E5FFCC', '662A00', 'D8D8D8', 'F5F5F5']}\n",
        "\n",
        "# Create a map object.\n",
        "m = geemap.Map(center=[20, 0], zoom=3)\n",
        "\n",
        "# Add the elevation model to the map object.\n",
        "m.add_ee_layer(dem.updateMask(dem.gt(0)), vis_params, 'DEM')\n",
        "\n",
        "# Display the map.\n",
        "display(m)"
      ],
      "execution_count": null,
      "outputs": []
    },
    {
      "cell_type": "markdown",
      "metadata": {
        "id": "CYfinjFhg0HN"
      },
      "source": [
        "## Chart visualization\n",
        "\n",
        "Some Earth Engine functions produce tabular data that can be plotted by\n",
        "data visualization packages such as `matplotlib`. The following example\n",
        "demonstrates the display of tabular data from Earth Engine as a scatter\n",
        "plot. See [Charting in Colaboratory](https://colab.sandbox.google.com/notebooks/charts.ipynb)\n",
        "for more information."
      ]
    },
    {
      "cell_type": "code",
      "metadata": {
        "id": "tRPULejJhBSl"
      },
      "source": [
        "# Import the matplotlib.pyplot module.\n",
        "import matplotlib.pyplot as plt\n",
        "\n",
        "# Fetch a Landsat TOA image.\n",
        "img = ee.Image('LANDSAT/LT05/C02/T1_TOA/LT05_034033_20000913')\n",
        "\n",
        "# Select Red and NIR bands and sample 500 points.\n",
        "samp_fc = img.select(['B3','B4']).sample(scale=30, numPixels=500)\n",
        "\n",
        "# Arrange the sample as a list of lists.\n",
        "samp_dict = samp_fc.reduceColumns(ee.Reducer.toList().repeat(2), ['B3', 'B4'])\n",
        "samp_list = ee.List(samp_dict.get('list'))\n",
        "\n",
        "# Save server-side ee.List as a client-side Python list.\n",
        "samp_data = samp_list.getInfo()\n",
        "\n",
        "# Display a scatter plot of Red-NIR sample pairs using matplotlib.\n",
        "plt.scatter(samp_data[0], samp_data[1], alpha=0.2)\n",
        "plt.xlabel('Red', fontsize=12)\n",
        "plt.ylabel('NIR', fontsize=12)\n",
        "plt.show()"
      ],
      "execution_count": null,
      "outputs": []
    },
    {
      "cell_type": "markdown",
      "source": [
        "### Table Extraction from PDF"
      ],
      "metadata": {
        "id": "AbfHIQ4G5Mt9"
      }
    },
    {
      "cell_type": "code",
      "source": [
        "!pip install pdfplumber==0.7.6"
      ],
      "metadata": {
        "id": "gJWGg8kf5I7d",
        "outputId": "cb8b9e23-e583-4eb5-ebd1-125e6c2901e7",
        "colab": {
          "base_uri": "https://localhost:8080/"
        }
      },
      "execution_count": 1,
      "outputs": [
        {
          "output_type": "stream",
          "name": "stdout",
          "text": [
            "Collecting pdfplumber==0.7.6\n",
            "  Downloading pdfplumber-0.7.6-py3-none-any.whl.metadata (32 kB)\n",
            "Collecting pdfminer.six==20221105 (from pdfplumber==0.7.6)\n",
            "  Downloading pdfminer.six-20221105-py3-none-any.whl.metadata (4.0 kB)\n",
            "Requirement already satisfied: Pillow>=9.1 in /usr/local/lib/python3.11/dist-packages (from pdfplumber==0.7.6) (11.1.0)\n",
            "Collecting Wand>=0.6.10 (from pdfplumber==0.7.6)\n",
            "  Downloading Wand-0.6.13-py2.py3-none-any.whl.metadata (4.0 kB)\n",
            "Requirement already satisfied: charset-normalizer>=2.0.0 in /usr/local/lib/python3.11/dist-packages (from pdfminer.six==20221105->pdfplumber==0.7.6) (3.4.1)\n",
            "Requirement already satisfied: cryptography>=36.0.0 in /usr/local/lib/python3.11/dist-packages (from pdfminer.six==20221105->pdfplumber==0.7.6) (43.0.3)\n",
            "Requirement already satisfied: cffi>=1.12 in /usr/local/lib/python3.11/dist-packages (from cryptography>=36.0.0->pdfminer.six==20221105->pdfplumber==0.7.6) (1.17.1)\n",
            "Requirement already satisfied: pycparser in /usr/local/lib/python3.11/dist-packages (from cffi>=1.12->cryptography>=36.0.0->pdfminer.six==20221105->pdfplumber==0.7.6) (2.22)\n",
            "Downloading pdfplumber-0.7.6-py3-none-any.whl (40 kB)\n",
            "\u001b[2K   \u001b[90m━━━━━━━━━━━━━━━━━━━━━━━━━━━━━━━━━━━━━━━━\u001b[0m \u001b[32m40.6/40.6 kB\u001b[0m \u001b[31m1.1 MB/s\u001b[0m eta \u001b[36m0:00:00\u001b[0m\n",
            "\u001b[?25hDownloading pdfminer.six-20221105-py3-none-any.whl (5.6 MB)\n",
            "\u001b[2K   \u001b[90m━━━━━━━━━━━━━━━━━━━━━━━━━━━━━━━━━━━━━━━━\u001b[0m \u001b[32m5.6/5.6 MB\u001b[0m \u001b[31m18.0 MB/s\u001b[0m eta \u001b[36m0:00:00\u001b[0m\n",
            "\u001b[?25hDownloading Wand-0.6.13-py2.py3-none-any.whl (143 kB)\n",
            "\u001b[2K   \u001b[90m━━━━━━━━━━━━━━━━━━━━━━━━━━━━━━━━━━━━━━━━\u001b[0m \u001b[32m143.8/143.8 kB\u001b[0m \u001b[31m7.1 MB/s\u001b[0m eta \u001b[36m0:00:00\u001b[0m\n",
            "\u001b[?25hInstalling collected packages: Wand, pdfminer.six, pdfplumber\n",
            "Successfully installed Wand-0.6.13 pdfminer.six-20221105 pdfplumber-0.7.6\n"
          ]
        }
      ]
    },
    {
      "cell_type": "code",
      "source": [
        "import pdfplumber"
      ],
      "metadata": {
        "id": "5wrbuogg6EPf"
      },
      "execution_count": 2,
      "outputs": []
    },
    {
      "cell_type": "code",
      "source": [
        "# Replace 'your_file.pdf' with the actual filename\n",
        "with pdfplumber.open(\"LCOE-wind-solar.pdf\") as pdf:\n",
        "    for page in pdf.pages:\n",
        "        print(page.extract_table())\n"
      ],
      "metadata": {
        "id": "XfjfvjrZ6Nph",
        "outputId": "15f16b5e-e1f9-4ab9-eb7a-6ab4cf120400",
        "colab": {
          "base_uri": "https://localhost:8080/"
        }
      },
      "execution_count": 15,
      "outputs": [
        {
          "output_type": "stream",
          "name": "stdout",
          "text": [
            "d\n",
            "Aftissat 2019-2038 0,19 The oil-fired power plants reveal an average LCOE \n",
            "ranging from 0.97 to 3.34 (Table 4). The Dakhla 1 \n",
            "Akhfenir I 2013-2032 0,25\n",
            "plant registers the lowest LCOE, while eLaayoune \n",
            "Akhfenir II 2016-2035 0,24 presents the highest. Differences in LCOE for these \n",
            "plants are influenced by variations in investment \n",
            "Jbel Khalladi 2016-2040 0,23 w\n",
            "costs,  O&M  costs,  production  capacities,  and \n",
            "Haouma 2014-2033 0,17 financing  structures.  For  instance,  the  higher \n",
            "reliance on debt financing at Laayoune significantly \n",
            "Foum Alouad 2014-2033 0,19\n",
            "increases its production cost.e\n",
            "Tanger I 2010-2029 0,23\n",
            "Table 4. \n",
            "Laayoune 2011-2035 0,74 i\n",
            "LCOE of oil-fired power plants (MAD/Kwh)\n",
            "v\n",
            "Plants Lifetime LCOE (t=T)\n",
            "For hydropower plants, the estimated LCOE values  e\n",
            "Tantan 2009-2038 1,79\n",
            "range between 0.18 and 0.61 (Table 3). The Tanafnit \n",
            "El Borj plant emerges as the most cost-effective  Dakhla1 2017-2046 0,97\n",
            "r\n",
            "among  the  hydro  plants,  while  micro-hydro \n",
            "Laayoune 2018-2047 3,34\n",
            "facilities, including Sidi Said, Sidi Driss, and others,   \n",
            "exhibit relatively higher LCOE values due to their  Dakhla2 2018-2047 1,43\n",
            "r\n",
            "smaller scale and higher specific construction costs. \n",
            "Notably, the Afourer pumped storage hydropower  e\n",
            "plant  (STEP)  demonstrates  a  significantly  lower  Coal-fired  power  stations  demonstrate  a  LCOE \n",
            "LCOE compared to other hydro plants, due to the  ranging from 0.02 to 0.2 (Table 5), with the Safi \n",
            "e\n",
            "integration  of  a  Waste  Water  Treatment  Plant  plant having the lowest LCOE and Jorf 5&6 showing \n",
            "(WWTP),  which  boosts  overall  electricity  the highest. This cost variation is primarily driven by \n",
            "production. p differences in electricity output, where Safi benefits \n",
            "from economies of scale, producing nearly double \n",
            "The assessment also highlights that smaller power \n",
            "the electricity generation of Jorf 5&6, thus lowering \n",
            "plants frequently face higher capital expen ditures \n",
            "the unit cost of production.\n",
            "relative  to  their  limited  electricity  generation \n",
            "t\n",
            "capacity,  whereas  larger  facilities  benefit  from  These  findings  underscore  the  critical  role  that \n",
            "o\n",
            "reduced  investment  costs  alongside  greater  production volume plays in the cost-efficiency of \n",
            "electricity output. For instance, the Ahmad Lhansali  coal-based  power  generation.  Larger  electricity \n",
            "Power Plant exhibits superior prnoduction capacity,  output  facilitates  the  distribution  of  fixed  costs \n",
            "despite its lower capital investment, compared to  across a wider base, ultimately resulting in reduced \n",
            "micro-hydro plants like Sidi Said. This variation  per-unit electricity costs\n",
            " \n",
            "stems from differences in specific construction costs, \n",
            "Table 5. \n",
            "which  are  heavily  inftluenced  by  the  unique \n",
            "characteristics of eacnh site, including geographic  LCOE of coal-fired thermal power plants (MAD/Kwh)\n",
            "location,  topographical  conditions,  resource \n",
            "Plants Lifetime LCOE (t=T)\n",
            "accessibility, and other localized factors.\n",
            "i\n",
            "Safi 2018-2047 0,02\n",
            "Table 3. \n",
            "r\n",
            "LCOE of hydraulic power plants (MAD/Kwh) Jerada4 2018-2047 0,09\n",
            "p\n",
            "Plants Lifetime LCOE  Jorf5&6 2014-2043 0,2\n",
            "(t=T)\n",
            "e\n",
            "STEP Afourer 2005-2044 0,18\n",
            "Finally,  gas  power  plants  exhibit  LCOE  values \n",
            "Tarnafnit El Borj 2010-2034 0,27\n",
            "ranging from 0.05 to 0.09 (Table 6). The Ain Beni \n",
            "PAhmad Lhansali 2003-2027 0,35 Mathar site reports the highest LCOE, followed by \n",
            "Kenitra and Tahaddart. This is largely due to the \n",
            "Micro-hydropower\n",
            "elevated investment and O&M costs associated with \n",
            "Plants : Sidi Said, 2016-2040 0,37\n",
            "Ain Beni Mathar, despite its lower financing cost. In \n",
            "Sidi Driss, Hassan II, Asfalou, Boulferda contrast, Kenitra and Tahaddart benefit from lower \n",
            "This preprint research paper has not been peer reviewed. Electronic copy available at: https://ssrn.com/abstract=4998082\n",
            "None\n",
            "None\n",
            "None\n",
            "None\n",
            "None\n",
            "None\n",
            "None\n",
            "None\n",
            "None\n",
            "None\n",
            "None\n",
            "None\n",
            "None\n",
            "None\n",
            "None\n",
            "[['Wind \\nPower \\nPlants', 'Lifetime', 'Capacity \\ninstalled \\n(MW)', 'Cost \\ninvest \\n(MMAD)', 'Share \\nof \\nequity \\n%', 'p\\nShare \\nof debt \\n%', 'e\\nEquity \\nrate  of \\nreturn %', 'Debt \\ninterest \\nrate %', 'Capacity \\nfactor %', 'Degradation %', 'O&M \\n%  of \\ninvest'], ['Tarfaya', '20', '300', '5000', '20', '80', '5', '4', '40', '5', '2'], ['Midelt', '20', '180', '2500', 't\\n25', '75', '5', '4', '40', '5', '2'], ['Aftissat', '20', '200', '4000', 'o\\n25', '75', '5', '4', '40', '5', '2'], ['Akhfenir I', '20', '100', '1987', '25', '75', '5', '4', '40', '5', '2'], ['Akhfenir II', '20', '102', 'n\\n1955', '25', '75', '5', '4', '40', '5', '2'], ['Jbel \\nKhalladi', '25', 't\\n120', '1700', '-', '100', '5', '4', '40', '5', '2'], ['Haouma', '20', '50,6', '700', '25', '75', '5', '4', '40', '5', '2'], ['Foum \\nAlouad', '20', 'n\\ni\\n50,6', '800', '25', '75', '5', '4', '40', '5', '2'], ['Tanger I', 'r\\n20', '140', '2750', '20', '80', '5', '4', '40', '5', '2'], ['Laayoune', '25', '5,6', '99,45', '25', '75', '5', '4', '40', '4', '2']]\n",
            "[['oil-fired \\nthermal \\nPower \\nplants', 'Lifetime', 'Capacity \\ninstalled \\n(MW)', 'Cost \\ninvest \\n(MMAD)', 'Share \\nof \\nequity \\n%', 'Share \\nof debt \\n%', 'Equity \\nrate  of \\nreturn %', 'Debt \\ninterest \\nrate %', 'i\\nv\\nDegradation %', 'e\\nO&M \\n%  of \\ninvest', 'Heat \\nrate Btu/ \\nkWh', 'Fuel  cost \\nDH/ Btu'], ['Tantan', '30', '116', '1000', '20', '80', '15', '4,53', 'e\\n3,3', '3', '10,984', '2,2×10−4\\n\\uf0e8\\n2,63×10−4'], ['Dakhla1', '30', '16,5', '160', '100', '-', '15', '-', '3,3', '3', None, None], ['Dakhla2', '30', '16,5', '235', '100', '-', '15', '-', 'r\\n3,3', '3', None, None], ['Laayoune', '30', '72', '870', '-', '100', '-', '4,53', '3,3', '3', None, None]]\n"
          ]
        }
      ]
    },
    {
      "cell_type": "code",
      "source": [],
      "metadata": {
        "id": "6CRzA90l6gMv"
      },
      "execution_count": null,
      "outputs": []
    }
  ]
}